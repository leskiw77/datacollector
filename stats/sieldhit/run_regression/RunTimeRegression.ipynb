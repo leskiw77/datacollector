{
 "cells": [
  {
   "cell_type": "code",
   "execution_count": 8,
   "metadata": {
    "collapsed": true
   },
   "outputs": [],
   "source": [
    "from os import listdir, path\n",
    "from os.path import isfile, join\n",
    "import re\n",
    "import csv\n",
    "import matplotlib.pyplot as plt\n",
    "from scipy.optimize import curve_fit\n",
    "\n",
    "\n",
    "def read_particles_file(file_path):\n",
    "    with open(file_path, 'r') as csvfile:\n",
    "        reader = csv.DictReader(csvfile)\n",
    "        for row in reader:\n",
    "            threads_number = float(row['threads_number'])\n",
    "            average = float(row['average'])\n",
    "            yield threads_number, average\n",
    "\n",
    "\n",
    "def read_data(particles_file_pattern, dir_path='stats/sieldhit/run_regression'):\n",
    "    x_threads = []\n",
    "    x_particles = []\n",
    "    y_average = []\n",
    "    for f in listdir(dir_path):\n",
    "        f = join(dir_path, f)\n",
    "        if isfile(f):\n",
    "            match = re.match(particles_file_pattern, path.basename(f))\n",
    "            if match is None:\n",
    "                continue\n",
    "            particles = int(match.group(1))\n",
    "            for (threads_number, average) in read_particles_file(f):\n",
    "                x_threads.append(threads_number)\n",
    "                x_particles.append(particles)\n",
    "                y_average.append(average)\n",
    "    return x_threads, x_particles, y_average\n"
   ]
  },
  {
   "cell_type": "code",
   "execution_count": 9,
   "metadata": {},
   "outputs": [],
   "source": [
    "particles_file_pattern = r'particles_(\\d+)'\n",
    "\n",
    "x_threads, x_particles, y_average = read_data(particles_file_pattern)"
   ]
  },
  {
   "cell_type": "code",
   "execution_count": 10,
   "metadata": {},
   "outputs": [],
   "source": [
    "def func(X, a, b):\n",
    "    threads, particles = X\n",
    "    return a * (1 / threads) + b * particles"
   ]
  },
  {
   "cell_type": "code",
   "execution_count": 11,
   "metadata": {},
   "outputs": [
    {
     "data": {
      "text/plain": [
       "array([1.48334444e+04, 3.04778764e-05])"
      ]
     },
     "execution_count": 11,
     "metadata": {},
     "output_type": "execute_result"
    }
   ],
   "source": [
    "popt, pcov = curve_fit(func, (x_threads, x_particles), y_average)\n",
    "popt"
   ]
  },
  {
   "cell_type": "code",
   "execution_count": 12,
   "metadata": {},
   "outputs": [],
   "source": [
    "def estimate(threads, particles):\n",
    "    return popt[0] * (1 / threads) + popt[1] * particles\n"
   ]
  },
  {
   "cell_type": "code",
   "execution_count": 13,
   "metadata": {},
   "outputs": [],
   "source": [
    "particles_file_pattern_test = r'control_particles_(\\d+)'\n",
    "\n",
    "x_threads_test, x_particles_test, y_average_test = read_data(particles_file_pattern_test)"
   ]
  },
  {
   "cell_type": "code",
   "execution_count": 14,
   "metadata": {},
   "outputs": [],
   "source": [
    "estimated_result = [func((x, y), popt[0], popt[1]) for x, y in zip(x_threads_test, x_particles_test)]\n",
    "\n",
    "plt.plot(x_threads_test, y_average_test, '+', label='data')\n",
    "plt.plot(x_threads_test, estimated_result, '+', label='estimated')\n",
    "\n",
    "plt.legend()\n",
    "plt.show()\n"
   ]
  },
  {
   "cell_type": "code",
   "execution_count": null,
   "metadata": {},
   "outputs": [],
   "source": [
    "\n"
   ]
  }
 ],
 "metadata": {
  "kernelspec": {
   "display_name": "Python 2",
   "language": "python",
   "name": "python2"
  },
  "language_info": {
   "codemirror_mode": {
    "name": "ipython",
    "version": 2
   },
   "file_extension": ".py",
   "mimetype": "text/x-python",
   "name": "python",
   "nbconvert_exporter": "python",
   "pygments_lexer": "ipython2",
   "version": "2.7.6"
  }
 },
 "nbformat": 4,
 "nbformat_minor": 0
}
