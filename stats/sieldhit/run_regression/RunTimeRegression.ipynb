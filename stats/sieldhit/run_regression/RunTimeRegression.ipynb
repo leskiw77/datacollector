{
 "cells": [
  {
   "cell_type": "code",
   "execution_count": 32,
   "metadata": {
    "collapsed": true
   },
   "outputs": [],
   "source": [
    "from os import listdir, path\n",
    "from os.path import isfile, join\n",
    "import re\n",
    "import csv\n",
    "import matplotlib.pyplot as plt\n",
    "from scipy.optimize import curve_fit\n",
    "\n",
    "\n",
    "def read_particles_file(file_path):\n",
    "    with open(file_path, 'r') as csvfile:\n",
    "        reader = csv.DictReader(csvfile)\n",
    "        for row in reader:\n",
    "            threads_number = float(row['threads_number'])\n",
    "            average = float(row['average'])\n",
    "            yield threads_number, average\n",
    "\n",
    "\n",
    "def read_data(particles_file_pattern, dir_path='.'):\n",
    "    x_threads = []\n",
    "    x_particles = []\n",
    "    y_average = []\n",
    "    for f in listdir(dir_path):\n",
    "        f = join(dir_path, f)\n",
    "        if isfile(f):\n",
    "            match = re.match(particles_file_pattern, path.basename(f))\n",
    "            if match is None:\n",
    "                continue\n",
    "            particles = int(match.group(1))\n",
    "            for (threads_number, average) in read_particles_file(f):\n",
    "                x_threads.append(int(threads_number))\n",
    "                x_particles.append(int(particles))\n",
    "                y_average.append(float(average))\n",
    "    return x_threads, x_particles, y_average\n"
   ]
  },
  {
   "cell_type": "code",
   "execution_count": 33,
   "metadata": {},
   "outputs": [
    {
     "name": "stdout",
     "output_type": "stream",
     "text": [
      "    particles  threads         time\n",
      "10     100000        5   135.733333\n",
      "32   10000000       10  7108.033333\n",
      "0      100000       15    46.422222\n",
      "4      100000       25    27.880000\n",
      "2      100000       35    20.171429\n",
      "3      100000       50    13.926667\n",
      "58     500000       50    70.480000\n",
      "13    1000000       50   140.106667\n",
      "24   10000000       50  1393.319728\n",
      "69   50000000       50  9423.852309\n",
      "8      100000       65    10.897436\n",
      "6      100000       85    11.929412\n",
      "5      100000      100     7.946667\n",
      "60     500000      100    35.223333\n",
      "16    1000000      100    69.240000\n",
      "27   10000000      100   696.006667\n",
      "72   50000000      100  3525.525863\n",
      "7      100000      150     5.664444\n",
      "61     500000      150    23.613333\n",
      "14    1000000      175    39.820952\n",
      "25   10000000      175   397.460952\n",
      "70   50000000      175  2029.827586\n",
      "9      100000      200     4.605000\n",
      "65     500000      200    17.611667\n",
      "1      100000      250     3.389333\n",
      "57     500000      250    14.101333\n",
      "11    1000000      250    29.149333\n",
      "34    2000000      250    72.561392\n",
      "22   10000000      250   278.329333\n",
      "42   20000000      250   563.378000\n",
      "50   40000000      250   459.000000\n",
      "67   50000000      250  1422.054886\n",
      "64     500000      300    11.772222\n",
      "18    1000000      325    21.743590\n",
      "38    2000000      325    56.242051\n",
      "29   10000000      325   213.845128\n",
      "46   20000000      325   433.863077\n",
      "53   40000000      325   856.989701\n",
      "74   50000000      325  1094.641899\n",
      "66     500000      350    10.065714\n",
      "62     500000      400     8.619167\n",
      "19    1000000      400    17.448333\n",
      "39    2000000      400    43.439167\n",
      "30   10000000      400   175.003333\n",
      "47   20000000      400   353.835921\n",
      "54   40000000      400   706.046497\n",
      "75   50000000      400   881.503685\n",
      "63     500000      450     7.825926\n",
      "17    1000000      475    15.103158\n",
      "37    2000000      475    36.453333\n",
      "28   10000000      475   146.825263\n",
      "45   20000000      475   298.894737\n",
      "52   40000000      475   604.589012\n",
      "73   50000000      475   753.414737\n",
      "59     500000      500     7.988000\n",
      "12    1000000      550    12.705455\n",
      "35    2000000      550    32.176061\n",
      "23   10000000      550   127.215152\n",
      "43   20000000      550   258.840909\n",
      "51   40000000      550   520.392004\n",
      "68   50000000      550   646.982639\n",
      "21    1000000      625    11.457600\n",
      "41    2000000      625    29.461867\n",
      "33   10000000      625   112.178667\n",
      "49   20000000      625   225.941600\n",
      "56   40000000      625   456.608108\n",
      "77   50000000      625   574.545786\n",
      "20    1000000      700    10.034762\n",
      "40    2000000      700    23.021905\n",
      "31   10000000      700   100.165238\n",
      "48   20000000      700   203.494286\n",
      "55   40000000      700   425.302711\n",
      "76   50000000      700   548.235673\n",
      "15    1000000      775     8.985806\n",
      "36    2000000      775    21.216344\n",
      "26   10000000      775    94.513978\n",
      "44   20000000      775   182.932903\n",
      "71   50000000      775   574.898925\n"
     ]
    }
   ],
   "source": [
    "particles_file_pattern = r'particles_(\\d+)'\n",
    "\n",
    "x_threads, x_particles, y_average = read_data(particles_file_pattern)\n",
    "\n",
    "import pandas as pd\n",
    "\n",
    "df = pd.DataFrame({'threads': x_threads, 'particles': x_particles,'time': y_average})\n",
    "df = df.sort_values(['threads', 'particles'])\n",
    "with pd.option_context('display.max_rows', 100, 'display.max_columns', 5):\n",
    "    print(df)\n"
   ]
  },
  {
   "cell_type": "code",
   "execution_count": 34,
   "metadata": {
    "collapsed": true
   },
   "outputs": [],
   "source": [
    "def func(X, a, b):\n",
    "    threads, particles = X\n",
    "    return a * (1 / threads) * b * particles"
   ]
  },
  {
   "cell_type": "code",
   "execution_count": 35,
   "metadata": {},
   "outputs": [
    {
     "data": {
      "text/plain": [
       "array([-0.34198527, -0.02325793])"
      ]
     },
     "execution_count": 35,
     "metadata": {},
     "output_type": "execute_result"
    }
   ],
   "source": [
    "popt, pcov = curve_fit(func, (x_threads, x_particles), y_average)\n",
    "popt"
   ]
  },
  {
   "cell_type": "code",
   "execution_count": 36,
   "metadata": {
    "collapsed": true
   },
   "outputs": [],
   "source": [
    "def estimate(threads, particles):\n",
    "    return popt[0] * (1 / threads) + popt[1] * particles\n"
   ]
  },
  {
   "cell_type": "code",
   "execution_count": 37,
   "metadata": {},
   "outputs": [],
   "source": [
    "particles_file_pattern_test = r'control_particles_(\\d+)'\n",
    "\n",
    "x_threads_test, x_particles_test, y_average_test = read_data(particles_file_pattern_test)"
   ]
  },
  {
   "cell_type": "code",
   "execution_count": 38,
   "metadata": {},
   "outputs": [
    {
     "data": {
      "image/png": "[encoded data removed]",
      "text/plain": [
       "<matplotlib.figure.Figure at 0x114efeb70>"
      ]
     },
     "metadata": {},
     "output_type": "display_data"
    }
   ],
   "source": [
    "estimated_result = [func((x, y), popt[0], popt[1]) for x, y in zip(x_threads_test, x_particles_test)]\n",
    "\n",
    "plt.plot(x_threads_test, y_average_test, '+', label='data')\n",
    "plt.plot(x_threads_test, estimated_result, '+', label='estimated')\n",
    "\n",
    "plt.legend()\n",
    "plt.show()\n"
   ]
  },
  {
   "cell_type": "code",
   "execution_count": null,
   "metadata": {
    "collapsed": true
   },
   "outputs": [],
   "source": [
    "\n"
   ]
  }
 ],
 "metadata": {
  "kernelspec": {
   "display_name": "Python 3",
   "language": "python",
   "name": "python3"
  },
  "language_info": {
   "codemirror_mode": {
    "name": "ipython",
    "version": 3
   },
   "file_extension": ".py",
   "mimetype": "text/x-python",
   "name": "python",
   "nbconvert_exporter": "python",
   "pygments_lexer": "ipython3",
   "version": "3.6.5"
  }
 },
 "nbformat": 4,
 "nbformat_minor": 1
}
