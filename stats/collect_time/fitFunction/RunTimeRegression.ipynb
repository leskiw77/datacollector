{
 "cells": [
  {
   "cell_type": "code",
   "execution_count": 8,
   "metadata": {},
   "outputs": [],
   "source": [
    "#### from os import listdir, path\n",
    "from os.path import isfile, join\n",
    "import re\n",
    "import csv\n",
    "import matplotlib.pyplot as plt\n",
    "from scipy.optimize import curve_fit\n",
    "from scipy import stats\n",
    "\n",
    "def read_data(file_name):\n",
    "    x_threads = []\n",
    "    x_size = []\n",
    "    y_average = []\n",
    "    with open(file_name, 'r') as csvfile:\n",
    "        reader = csv.DictReader(csvfile)\n",
    "        for row in reader:\n",
    "            threads_number = int(row['threads_number'])\n",
    "            file_size = float(row['size'])\n",
    "            average = float(row['collect_time'])\n",
    "            x_threads.append(int(threads_number))\n",
    "            x_size.append(int(file_size))\n",
    "            y_average.append(float(average))\n",
    "    return x_threads, x_size, y_average\n"
   ]
  },
  {
   "cell_type": "code",
   "execution_count": 10,
   "metadata": {},
   "outputs": [
    {
     "name": "stdout",
     "output_type": "stream",
     "text": [
      "    threads  size     time\n",
      "8       100    12    8.000\n",
      "0       250    12   23.000\n",
      "9       100    23   11.500\n",
      "1       250    23   44.500\n",
      "28       52    35    6.125\n",
      "10      100    35   19.000\n",
      "2       250    35   78.500\n",
      "15      500    35  116.000\n",
      "23      700    35  235.000\n",
      "25       25    46    8.750\n",
      "11      100    46   23.500\n",
      "3       250    46   91.500\n",
      "16      500    46  160.500\n",
      "20      700    46  254.000\n",
      "26       25    69    9.750\n",
      "12      100    69   49.000\n",
      "4       250    69  160.500\n",
      "17      500    69  228.500\n",
      "21      700    69  427.000\n",
      "27       25   103   13.750\n",
      "13      100   103  144.000\n",
      "5       250   103  247.000\n",
      "18      500   103  431.500\n",
      "22      700   103  747.000\n",
      "29       25   138   19.000\n",
      "14      100   138  246.000\n",
      "6       250   138  350.000\n",
      "7       250   138  341.000\n",
      "19      500   138  502.000\n",
      "24      700   138  982.000\n"
     ]
    }
   ],
   "source": [
    "x_threads, x_size, y_average = read_data('results.csv')\n",
    "\n",
    "import pandas as pd\n",
    "\n",
    "df = pd.DataFrame({'threads': x_threads, 'size': x_size, 'time': y_average})\n",
    "df = df.sort_values(['size', 'threads'])\n",
    "with pd.option_context('display.max_rows', 100, 'display.max_columns', 5):\n",
    "    print(df)\n"
   ]
  },
  {
   "cell_type": "code",
   "execution_count": 11,
   "metadata": {},
   "outputs": [],
   "source": [
    "import numpy as np\n",
    "def func(X, a, b):\n",
    "    size, threads = X\n",
    "    return a * threads * size + b * threads*size*size "
   ]
  },
  {
   "cell_type": "code",
   "execution_count": 12,
   "metadata": {},
   "outputs": [
    {
     "name": "stdout",
     "output_type": "stream",
     "text": [
      "[7.65724451e-03 1.39314283e-05] [[ 9.29018916e-07 -7.67438071e-09]\n",
      " [-7.67438071e-09  6.86258464e-11]]\n"
     ]
    }
   ],
   "source": [
    "popt, pcov = curve_fit(func, (x_size, x_threads), y_average, bounds=([[0.0075, 0.00001], [0.0078, 0.00002]]))\n",
    "print(popt, pcov)"
   ]
  },
  {
   "cell_type": "code",
   "execution_count": 13,
   "metadata": {},
   "outputs": [
    {
     "data": {
      "text/plain": [
       "[(-322, 2), (322, 2)]"
      ]
     },
     "execution_count": 13,
     "metadata": {},
     "output_type": "execute_result"
    }
   ],
   "source": [
    "a = popt[0]\n",
    "b = popt[1]\n",
    "c = 0.00795388\n",
    "s = 1\n",
    "coef = [a*s + b * s ** 2, 0, -c*100000]\n",
    "root = [ int(x.real) for x in np.roots(coef) if np.isreal(x)]\n",
    "sorted([(x, 2) for x in root], key=lambda x: x[1])"
   ]
  },
  {
   "cell_type": "code",
   "execution_count": 18,
   "metadata": {},
   "outputs": [
    {
     "name": "stdout",
     "output_type": "stream",
     "text": [
      "0.9864744489824698\n",
      "16.72130185652778\n"
     ]
    },
    {
     "data": {
      "image/png": "[encoded data removed]",
      "text/plain": [
       "<Figure size 432x288 with 1 Axes>"
      ]
     },
     "metadata": {
      "needs_background": "light"
     },
     "output_type": "display_data"
    }
   ],
   "source": [
    "x_threads_test, x_size_test, y_average_test = read_data('results2.csv')\n",
    "\n",
    "from math import sqrt\n",
    "def calc(estim, rel):\n",
    "    res = [np.sqrt((y - x)**2) for x, y in zip(estim, rel)]\n",
    "    res = sum(res) / len(res)\n",
    "    return res\n",
    "            \n",
    "    \n",
    "estimated_result = [func((x, y), popt[0], popt[1]) for x, y in zip(x_size_test, x_threads_test)]\n",
    "\n",
    "from sklearn.metrics import r2_score\n",
    "\n",
    "print(r2_score(y_average_test, estimated_result))\n",
    "\n",
    "print(calc(estimated_result, y_average_test))\n",
    "\n",
    "plt.plot(x_size_test, y_average_test, '+', label='data')\n",
    "plt.plot(x_size_test, estimated_result, '+', label='estimated')\n",
    "plt.xlabel(\"Files size in MB\")\n",
    "plt.ylabel(\"Time in seconds\")\n",
    "\n",
    "plt.legend()\n",
    "plt.show()\n"
   ]
  },
  {
   "cell_type": "code",
   "execution_count": null,
   "metadata": {
    "collapsed": true
   },
   "outputs": [],
   "source": [
    "\n"
   ]
  },
  {
   "cell_type": "code",
   "execution_count": null,
   "metadata": {
    "collapsed": true
   },
   "outputs": [],
   "source": []
  },
  {
   "cell_type": "code",
   "execution_count": null,
   "metadata": {
    "collapsed": true
   },
   "outputs": [],
   "source": []
  }
 ],
 "metadata": {
  "kernelspec": {
   "display_name": "Python 3",
   "language": "python",
   "name": "python3"
  },
  "language_info": {
   "codemirror_mode": {
    "name": "ipython",
    "version": 3
   },
   "file_extension": ".py",
   "mimetype": "text/x-python",
   "name": "python",
   "nbconvert_exporter": "python",
   "pygments_lexer": "ipython3",
   "version": "3.7.1"
  }
 },
 "nbformat": 4,
 "nbformat_minor": 1
}
