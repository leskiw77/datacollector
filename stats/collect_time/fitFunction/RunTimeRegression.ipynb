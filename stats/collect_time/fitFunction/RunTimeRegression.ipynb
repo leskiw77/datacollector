{
 "cells": [
  {
   "cell_type": "code",
   "execution_count": 40,
   "metadata": {
    "collapsed": true
   },
   "outputs": [],
   "source": [
    "from os import listdir, path\n",
    "from os.path import isfile, join\n",
    "import re\n",
    "import csv\n",
    "import matplotlib.pyplot as plt\n",
    "from scipy.optimize import curve_fit\n",
    "\n",
    "def read_data(file_name):\n",
    "    x_threads = []\n",
    "    x_size = []\n",
    "    y_average = []\n",
    "    with open(file_name, 'r') as csvfile:\n",
    "        reader = csv.DictReader(csvfile)\n",
    "        for row in reader:\n",
    "            threads_number = int(row['threads_number'])\n",
    "            file_size = float(row['size'])\n",
    "            average = float(row['collect_time'])\n",
    "            x_threads.append(int(threads_number))\n",
    "            x_size.append(int(file_size))\n",
    "            y_average.append(float(average))\n",
    "    return x_threads, x_size, y_average\n"
   ]
  },
  {
   "cell_type": "code",
   "execution_count": 41,
   "metadata": {},
   "outputs": [
    {
     "name": "stdout",
     "output_type": "stream",
     "text": [
      "    size  threads   time\n",
      "25    12      100    8.0\n",
      "0     12      250   23.0\n",
      "26    23      100   11.5\n",
      "1     23      250   44.5\n",
      "27    35      100   19.0\n",
      "2     35      250   78.5\n",
      "3     35      500  116.0\n",
      "28    46      100   23.5\n",
      "4     46      250   91.5\n",
      "5     46      500  160.5\n",
      "29    69      100   49.0\n",
      "6     69      250  160.5\n",
      "7     69      500  228.5\n",
      "30   103      100  144.0\n",
      "8    103      250  247.0\n",
      "18   138       25   24.0\n",
      "17   138       50   76.0\n",
      "20   138      100   88.0\n",
      "31   138      100  246.0\n",
      "12   138      150  103.5\n",
      "22   138      200  263.5\n",
      "9    138      250  350.0\n",
      "10   138      250  341.0\n",
      "23   138      300  682.0\n",
      "16   138      350  724.0\n",
      "24   138      350  756.0\n",
      "13   138      400  299.5\n",
      "21   138      400  538.0\n",
      "19   138      500  502.0\n",
      "11   138      550  444.5\n",
      "15   138      600  659.5\n",
      "14   138      700  834.0\n"
     ]
    }
   ],
   "source": [
    "x_threads, x_size, y_average = read_data('results.csv')\n",
    "\n",
    "import pandas as pd\n",
    "\n",
    "df = pd.DataFrame({'threads': x_threads, 'size': x_size, 'time': y_average})\n",
    "df = df.sort_values(['size', 'threads'])\n",
    "with pd.option_context('display.max_rows', 100, 'display.max_columns', 5):\n",
    "    print(df)\n"
   ]
  },
  {
   "cell_type": "code",
   "execution_count": 42,
   "metadata": {
    "collapsed": true
   },
   "outputs": [],
   "source": [
    "def func(X, a, b):\n",
    "    threads, particles = X\n",
    "    return a * threads * b * particles"
   ]
  },
  {
   "cell_type": "code",
   "execution_count": 44,
   "metadata": {},
   "outputs": [
    {
     "name": "stderr",
     "output_type": "stream",
     "text": [
      "/usr/local/lib/python3.6/site-packages/scipy/optimize/minpack.py:785: OptimizeWarning: Covariance of the parameters could not be estimated\n",
      "  category=OptimizeWarning)\n"
     ]
    },
    {
     "data": {
      "text/plain": [
       "array([0.32397035, 0.02746035])"
      ]
     },
     "execution_count": 44,
     "metadata": {},
     "output_type": "execute_result"
    }
   ],
   "source": [
    "popt, pcov = curve_fit(func, (x_threads, x_size), y_average)\n",
    "popt"
   ]
  },
  {
   "cell_type": "code",
   "execution_count": 45,
   "metadata": {},
   "outputs": [
    {
     "ename": "FileNotFoundError",
     "evalue": "[Errno 2] No such file or directory: 'test.csv'",
     "output_type": "error",
     "traceback": [
      "\u001b[0;31m---------------------------------------------------------------------------\u001b[0m",
      "\u001b[0;31mFileNotFoundError\u001b[0m                         Traceback (most recent call last)",
      "\u001b[0;32m<ipython-input-45-333792e1278e>\u001b[0m in \u001b[0;36m<module>\u001b[0;34m()\u001b[0m\n\u001b[0;32m----> 1\u001b[0;31m \u001b[0mx_threads_test\u001b[0m\u001b[0;34m,\u001b[0m \u001b[0mx_size_test\u001b[0m\u001b[0;34m,\u001b[0m \u001b[0my_average_test\u001b[0m \u001b[0;34m=\u001b[0m \u001b[0mread_data\u001b[0m\u001b[0;34m(\u001b[0m\u001b[0;34m'test.csv'\u001b[0m\u001b[0;34m)\u001b[0m\u001b[0;34m\u001b[0m\u001b[0m\n\u001b[0m\u001b[1;32m      2\u001b[0m \u001b[0;34m\u001b[0m\u001b[0m\n\u001b[1;32m      3\u001b[0m \u001b[0mestimated_result\u001b[0m \u001b[0;34m=\u001b[0m \u001b[0;34m[\u001b[0m\u001b[0mfunc\u001b[0m\u001b[0;34m(\u001b[0m\u001b[0;34m(\u001b[0m\u001b[0mx\u001b[0m\u001b[0;34m,\u001b[0m \u001b[0my\u001b[0m\u001b[0;34m)\u001b[0m\u001b[0;34m,\u001b[0m \u001b[0mpopt\u001b[0m\u001b[0;34m[\u001b[0m\u001b[0;36m0\u001b[0m\u001b[0;34m]\u001b[0m\u001b[0;34m,\u001b[0m \u001b[0mpopt\u001b[0m\u001b[0;34m[\u001b[0m\u001b[0;36m1\u001b[0m\u001b[0;34m]\u001b[0m\u001b[0;34m)\u001b[0m \u001b[0;32mfor\u001b[0m \u001b[0mx\u001b[0m\u001b[0;34m,\u001b[0m \u001b[0my\u001b[0m \u001b[0;32min\u001b[0m \u001b[0mzip\u001b[0m\u001b[0;34m(\u001b[0m\u001b[0mx_threads_test\u001b[0m\u001b[0;34m,\u001b[0m \u001b[0mx_size_test\u001b[0m\u001b[0;34m)\u001b[0m\u001b[0;34m]\u001b[0m\u001b[0;34m\u001b[0m\u001b[0m\n\u001b[1;32m      4\u001b[0m \u001b[0;34m\u001b[0m\u001b[0m\n\u001b[1;32m      5\u001b[0m \u001b[0mplt\u001b[0m\u001b[0;34m.\u001b[0m\u001b[0mplot\u001b[0m\u001b[0;34m(\u001b[0m\u001b[0mx_threads_test\u001b[0m\u001b[0;34m,\u001b[0m \u001b[0my_average_test\u001b[0m\u001b[0;34m,\u001b[0m \u001b[0;34m'+'\u001b[0m\u001b[0;34m,\u001b[0m \u001b[0mlabel\u001b[0m\u001b[0;34m=\u001b[0m\u001b[0;34m'data'\u001b[0m\u001b[0;34m)\u001b[0m\u001b[0;34m\u001b[0m\u001b[0m\n",
      "\u001b[0;32m<ipython-input-40-e286d1269d4f>\u001b[0m in \u001b[0;36mread_data\u001b[0;34m(file_name)\u001b[0m\n\u001b[1;32m     10\u001b[0m     \u001b[0mx_size\u001b[0m \u001b[0;34m=\u001b[0m \u001b[0;34m[\u001b[0m\u001b[0;34m]\u001b[0m\u001b[0;34m\u001b[0m\u001b[0m\n\u001b[1;32m     11\u001b[0m     \u001b[0my_average\u001b[0m \u001b[0;34m=\u001b[0m \u001b[0;34m[\u001b[0m\u001b[0;34m]\u001b[0m\u001b[0;34m\u001b[0m\u001b[0m\n\u001b[0;32m---> 12\u001b[0;31m     \u001b[0;32mwith\u001b[0m \u001b[0mopen\u001b[0m\u001b[0;34m(\u001b[0m\u001b[0mfile_name\u001b[0m\u001b[0;34m,\u001b[0m \u001b[0;34m'r'\u001b[0m\u001b[0;34m)\u001b[0m \u001b[0;32mas\u001b[0m \u001b[0mcsvfile\u001b[0m\u001b[0;34m:\u001b[0m\u001b[0;34m\u001b[0m\u001b[0m\n\u001b[0m\u001b[1;32m     13\u001b[0m         \u001b[0mreader\u001b[0m \u001b[0;34m=\u001b[0m \u001b[0mcsv\u001b[0m\u001b[0;34m.\u001b[0m\u001b[0mDictReader\u001b[0m\u001b[0;34m(\u001b[0m\u001b[0mcsvfile\u001b[0m\u001b[0;34m)\u001b[0m\u001b[0;34m\u001b[0m\u001b[0m\n\u001b[1;32m     14\u001b[0m         \u001b[0;32mfor\u001b[0m \u001b[0mrow\u001b[0m \u001b[0;32min\u001b[0m \u001b[0mreader\u001b[0m\u001b[0;34m:\u001b[0m\u001b[0;34m\u001b[0m\u001b[0m\n",
      "\u001b[0;31mFileNotFoundError\u001b[0m: [Errno 2] No such file or directory: 'test.csv'"
     ]
    }
   ],
   "source": [
    "x_threads_test, x_size_test, y_average_test = read_data('test.csv')\n",
    "\n",
    "estimated_result = [func((x, y), popt[0], popt[1]) for x, y in zip(x_threads_test, x_size_test)]\n",
    "\n",
    "plt.plot(x_threads_test, y_average_test, '+', label='data')\n",
    "plt.plot(x_threads_test, estimated_result, '+', label='estimated')\n",
    "\n",
    "plt.legend()\n",
    "plt.show()\n"
   ]
  },
  {
   "cell_type": "code",
   "execution_count": null,
   "metadata": {
    "collapsed": true
   },
   "outputs": [],
   "source": [
    "\n"
   ]
  }
 ],
 "metadata": {
  "kernelspec": {
   "display_name": "Python 3",
   "language": "python",
   "name": "python3"
  },
  "language_info": {
   "codemirror_mode": {
    "name": "ipython",
    "version": 3
   },
   "file_extension": ".py",
   "mimetype": "text/x-python",
   "name": "python",
   "nbconvert_exporter": "python",
   "pygments_lexer": "ipython3",
   "version": "3.6.5"
  }
 },
 "nbformat": 4,
 "nbformat_minor": 1
}
