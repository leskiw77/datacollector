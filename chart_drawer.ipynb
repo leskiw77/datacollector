{
 "cells": [
  {
   "cell_type": "code",
   "execution_count": 1,
   "metadata": {},
   "outputs": [],
   "source": [
    "from Generator import Runner\n",
    "\n",
    "Runner.clean_run()"
   ]
  },
  {
   "cell_type": "code",
   "execution_count": null,
   "metadata": {},
   "outputs": [],
   "source": [
    "import csv\n",
    "\n",
    "\n",
    "def extract_data(file_name):\n",
    "    threads = []\n",
    "    minimum = []\n",
    "    maximum = []\n",
    "    average = []\n",
    "\n",
    "    with open(file_name) as fp:\n",
    "        reader = csv.DictReader(fp)\n",
    "        for row in reader:\n",
    "            threads.append(row['threads_number'])\n",
    "            minimum.append(row['minimum'])\n",
    "            maximum.append(row['maximum'])\n",
    "            average.append(row['average'])\n",
    "        return threads, minimum, maximum, average\n"
   ]
  },
  {
   "cell_type": "code",
   "execution_count": 9,
   "metadata": {},
   "outputs": [],
   "source": [
    "import plotly.plotly as py\n",
    "import plotly.graph_objs as go\n",
    "\n",
    "\n",
    "def get_draw_traces(threads, minimum, maximum, average):\n",
    "    trace0 = go.Scatter(\n",
    "        x=threads,\n",
    "        y=minimum,\n",
    "        mode='markers',\n",
    "        name='minimum'\n",
    "    )\n",
    "    trace1 = go.Scatter(\n",
    "        x=threads,\n",
    "        y=maximum,\n",
    "        mode='markers',\n",
    "        name='maximum'\n",
    "    )\n",
    "    trace2 = go.Scatter(\n",
    "        x=threads,\n",
    "        y=average,\n",
    "        mode='markers',\n",
    "        name='average'\n",
    "    )\n",
    "    return [trace0, trace1, trace2]\n",
    "\n",
    "\n",
    "\n",
    "\n"
   ]
  },
  {
   "cell_type": "code",
   "execution_count": 10,
   "metadata": {},
   "outputs": [
    {
     "name": "stdout",
     "output_type": "stream",
     "text": [
      "\n"
     ]
    },
    {
     "data": {
      "text/html": [
       "<iframe id=\"igraph\" scrolling=\"no\" style=\"border:none;\" seamless=\"seamless\" src=\"https://plot.ly/~leskiw77/4.embed\" height=\"525px\" width=\"100%\"></iframe>"
      ],
      "text/plain": [
       "<iframe id=\"igraph\" scrolling=\"no\" style=\"border:none;\" seamless=\"seamless\" src=\"https://plot.ly/~leskiw77/4.embed\" height=\"525px\" width=\"100%\"></iframe>"
      ]
     },
     "execution_count": 10,
     "metadata": {},
     "output_type": "execute_result"
    }
   ],
   "source": [
    "threads, minimum, maximum, average = extract_data('results/particles_10000/result.csv')\n",
    "data = get_draw_traces(threads, minimum, maximum, average)\n",
    "\n",
    "print()\n",
    "py.iplot(data, filename='line-mode')"
   ]
  },
  {
   "cell_type": "code",
   "execution_count": null,
   "metadata": {
    "collapsed": true
   },
   "outputs": [],
   "source": [
    "\n"
   ]
  },
  {
   "cell_type": "code",
   "execution_count": 7,
   "metadata": {
    "collapsed": true
   },
   "outputs": [],
   "source": [
    ""
   ]
  },
  {
   "cell_type": "code",
   "execution_count": null,
   "metadata": {},
   "outputs": [],
   "source": []
  }
 ],
 "metadata": {
  "kernelspec": {
   "display_name": "Python 2",
   "language": "python",
   "name": "python2"
  },
  "language_info": {
   "codemirror_mode": {
    "name": "ipython",
    "version": 2
   },
   "file_extension": ".py",
   "mimetype": "text/x-python",
   "name": "python",
   "nbconvert_exporter": "python",
   "pygments_lexer": "ipython2",
   "version": "2.7.6"
  }
 },
 "nbformat": 4,
 "nbformat_minor": 0
}
