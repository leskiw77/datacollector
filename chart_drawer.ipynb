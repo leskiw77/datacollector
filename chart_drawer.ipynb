{
 "cells": [
  {
   "cell_type": "code",
   "execution_count": 1,
   "metadata": {},
   "outputs": [],
   "source": [
    "from Generator import Runner\n",
    "\n",
    "Runner.clean_run()"
   ]
  },
  {
   "cell_type": "code",
   "execution_count": 1,
   "metadata": {},
   "outputs": [],
   "source": [
    "import csv\n",
    "\n",
    "\n",
    "def extract_data(file_name):\n",
    "    threads = []\n",
    "    minimum = []\n",
    "    maximum = []\n",
    "    average = []\n",
    "    collect_time = []\n",
    "\n",
    "    with open(file_name) as fp:\n",
    "        reader = csv.DictReader(fp)\n",
    "        for row in reader:\n",
    "            threads.append(row['threads_number'])\n",
    "            minimum.append(row['minimum'])\n",
    "            maximum.append(row['maximum'])\n",
    "            average.append(row['average'])\n",
    "            collect_time.append(row['collect_time'])\n",
    "        return threads, minimum, maximum, average, collect_time\n"
   ]
  },
  {
   "cell_type": "code",
   "execution_count": 2,
   "metadata": {},
   "outputs": [],
   "source": [
    "import plotly.plotly as py\n",
    "import plotly.graph_objs as go\n",
    "\n",
    "\n",
    "def get_draw_traces(threads, minimum, maximum, average, collect_time):\n",
    "    trace0 = go.Scatter(\n",
    "        x=threads,\n",
    "        y=minimum,\n",
    "        mode='markers',\n",
    "        name='minimum'\n",
    "    )\n",
    "    trace1 = go.Scatter(\n",
    "        x=threads,\n",
    "        y=maximum,\n",
    "        mode='markers',\n",
    "        name='maximum'\n",
    "    )\n",
    "    trace2 = go.Scatter(\n",
    "        x=threads,\n",
    "        y=average,\n",
    "        mode='markers',\n",
    "        name='average'\n",
    "    )\n",
    "    trace3 = go.Scatter(\n",
    "        x=threads,\n",
    "        y=collect_time,\n",
    "        mode='markers',\n",
    "        name='collect_time'\n",
    "    )\n",
    "    return [trace0, trace1, trace2, trace3]\n",
    "\n",
    "\n",
    "\n",
    "\n"
   ]
  },
  {
   "cell_type": "code",
   "execution_count": 3,
   "metadata": {},
   "outputs": [],
   "source": [
    "layout_comp = go.Layout(\n",
    "    hovermode='closest',\n",
    "    xaxis=dict(\n",
    "        title='Number of threads',\n",
    "        ticklen=5,\n",
    "        zeroline=False,\n",
    "        gridwidth=2,\n",
    "    ),\n",
    "    yaxis=dict(\n",
    "        title='Time in seconds',\n",
    "        ticklen=5,\n",
    "        gridwidth=2,\n",
    "    ),\n",
    ")\n",
    "\n"
   ]
  },
  {
   "cell_type": "code",
   "execution_count": 31,
   "metadata": {
    "collapsed": true
   },
   "outputs": [
    {
     "name": "stdout",
     "output_type": "stream",
     "text": [
      "https://plot.ly/~leskiw77/11\n"
     ]
    },
    {
     "data": {
      "text/html": [
       "<iframe id=\"igraph\" scrolling=\"no\" style=\"border:none;\" seamless=\"seamless\" src=\"https://plot.ly/~leskiw77/11.embed\" height=\"525px\" width=\"100%\"></iframe>"
      ],
      "text/plain": [
       "<iframe id=\"igraph\" scrolling=\"no\" style=\"border:none;\" seamless=\"seamless\" src=\"https://plot.ly/~leskiw77/11.embed\" height=\"525px\" width=\"100%\"></iframe>"
      ]
     },
     "execution_count": 31,
     "metadata": {},
     "output_type": "execute_result"
    }
   ],
   "source": [
    "import os\n",
    "\n",
    "file_path = '12.09/particles_1000000_b.csv'\n",
    "threads, minimum, maximum, average, collect_time = extract_data(file_path)\n",
    "data = get_draw_traces(threads, minimum, maximum, average, collect_time)\n",
    "\n",
    "trace4 = go.Scatter(\n",
    "    x=threads,\n",
    "    y=[float(i[0]) + float(i[1]) for i in zip(maximum, collect_time)],\n",
    "    mode='markers',\n",
    "    name='maximum + collect_time'\n",
    ")\n",
    "\n",
    "data.append(trace4)\n",
    "\n",
    "fig_comp = go.Figure(data=data, layout=layout_comp)\n",
    "plot = py.iplot(fig_comp, filename=os.path.basename(file_path))\n",
    "print(plot.resource)\n",
    "plot"
   ]
  },
  {
   "cell_type": "code",
   "execution_count": 30,
   "metadata": {
    "collapsed": true
   },
   "outputs": [
    {
     "data": {
      "text/plain": [
       "[57.66666666666667,\n 66.66666666666667,\n 156.33333333333334,\n 61.0,\n 77.0,\n 85.33333333333333,\n 70.0,\n 54.666666666666664,\n 56.66666666666667,\n 71.33333333333334,\n 69.0]"
      ]
     },
     "execution_count": 30,
     "metadata": {},
     "output_type": "execute_result"
    }
   ],
   "source": [
    ""
   ]
  },
  {
   "cell_type": "code",
   "execution_count": 17,
   "metadata": {},
   "outputs": [
    {
     "data": {
      "text/plain": [
       "str"
      ]
     },
     "execution_count": 17,
     "metadata": {},
     "output_type": "execute_result"
    }
   ],
   "source": [
    ""
   ]
  },
  {
   "cell_type": "code",
   "execution_count": null,
   "metadata": {},
   "outputs": [],
   "source": []
  }
 ],
 "metadata": {
  "kernelspec": {
   "display_name": "Python 2",
   "language": "python",
   "name": "python2"
  },
  "language_info": {
   "codemirror_mode": {
    "name": "ipython",
    "version": 2
   },
   "file_extension": ".py",
   "mimetype": "text/x-python",
   "name": "python",
   "nbconvert_exporter": "python",
   "pygments_lexer": "ipython2",
   "version": "2.7.6"
  }
 },
 "nbformat": 4,
 "nbformat_minor": 0
}
